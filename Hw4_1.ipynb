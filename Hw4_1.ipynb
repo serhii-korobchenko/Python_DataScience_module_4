{
  "nbformat": 4,
  "nbformat_minor": 0,
  "metadata": {
    "colab": {
      "provenance": []
    },
    "kernelspec": {
      "name": "python3",
      "display_name": "Python 3"
    },
    "language_info": {
      "name": "python"
    }
  },
  "cells": [
    {
      "cell_type": "markdown",
      "source": [
        "Есть набор данных speed, который представляет собой значения скорости, для некого транспортного средства в определенный момент наблюдения. Очевидно, что данные имеют дискретный вид. Известно, что наблюдения происходили с периодом в один час."
      ],
      "metadata": {
        "id": "c02KgM0k3oZw"
      }
    },
    {
      "cell_type": "code",
      "execution_count": null,
      "metadata": {
        "id": "QftA_jVJ3VHL"
      },
      "outputs": [],
      "source": [
        "speed = [25, 35, 45, 30, 60, 120, 100, 100, 70, 75, 80, 65]"
      ]
    },
    {
      "cell_type": "markdown",
      "source": [
        "Примем, что в нулевой координате у нас скорость 25 км/ч, согласно набору данных speed. Поместите в переменную time — вектор времени созданный с помощью np.linspace (всего 12 наблюдений, от 0 до 11 часов)"
      ],
      "metadata": {
        "id": "S8JLcsD-302p"
      }
    },
    {
      "cell_type": "code",
      "source": [
        "import numpy as np\n",
        "time = np.linspace(0,11,num=12, dtype=int)"
      ],
      "metadata": {
        "id": "fR9FcQEF32Hh"
      },
      "execution_count": null,
      "outputs": []
    },
    {
      "cell_type": "markdown",
      "source": [
        "Выполните вывод массива time"
      ],
      "metadata": {
        "id": "xFUwDX-L5eUw"
      }
    },
    {
      "cell_type": "code",
      "source": [
        "time"
      ],
      "metadata": {
        "colab": {
          "base_uri": "https://localhost:8080/"
        },
        "id": "U_4r7sWI4e9N",
        "outputId": "dce8b26f-3cb9-46c4-8df7-2d9e9f432379"
      },
      "execution_count": null,
      "outputs": [
        {
          "output_type": "execute_result",
          "data": {
            "text/plain": [
              "array([ 0,  1,  2,  3,  4,  5,  6,  7,  8,  9, 10, 11])"
            ]
          },
          "metadata": {},
          "execution_count": 76
        }
      ]
    },
    {
      "cell_type": "markdown",
      "source": [
        "Выполните вывод графика — значение точек скорости (plot или scatter). Задайте размер отображаемой области (0, 11) и (0, 130). Задайте отображение сетки"
      ],
      "metadata": {
        "id": "jtsBuKXx5gZ-"
      }
    },
    {
      "cell_type": "code",
      "source": [
        "import matplotlib.pyplot as plt"
      ],
      "metadata": {
        "id": "81jmttUO52pi"
      },
      "execution_count": null,
      "outputs": []
    },
    {
      "cell_type": "code",
      "source": [
        "# Plot \n",
        "plt.figure(figsize=(10,6))\n",
        "plt.plot(time, speed, label='Speed')\n",
        "plt.xlim(0, 11)\n",
        "plt.ylim(0, 130)\n",
        "plt.xlabel('Time (hours)')\n",
        "plt.ylabel('Speed')\n",
        "plt.title('Speed of Vehicle')\n",
        "plt.legend()\n",
        "plt.show()"
      ],
      "metadata": {
        "colab": {
          "base_uri": "https://localhost:8080/",
          "height": 404
        },
        "id": "dkcxPS-i5jXf",
        "outputId": "f998ee60-7c7c-44da-a60a-3b80c578d9c7"
      },
      "execution_count": null,
      "outputs": [
        {
          "output_type": "display_data",
          "data": {
            "text/plain": [
              "<Figure size 720x432 with 1 Axes>"
            ],
            "image/png": "[encoded data removed]"
          },
          "metadata": {
            "needs_background": "light"
          }
        }
      ]
    },
    {
      "cell_type": "markdown",
      "source": [
        "Выполните интерполяцию с помощью interp1d(kind='cubic') и получите функцию на 10000 значений. Постройте непрерывный график полученной функции."
      ],
      "metadata": {
        "id": "CCxEkjqr7wLo"
      }
    },
    {
      "cell_type": "code",
      "source": [
        "from scipy.interpolate import interp1d"
      ],
      "metadata": {
        "id": "V78baY2Y8Ph8"
      },
      "execution_count": null,
      "outputs": []
    },
    {
      "cell_type": "code",
      "source": [
        "res_inter = interp1d(time, speed, kind='cubic')"
      ],
      "metadata": {
        "id": "y2aEB_qI7xDw"
      },
      "execution_count": null,
      "outputs": []
    },
    {
      "cell_type": "code",
      "source": [
        "res_inter.y"
      ],
      "metadata": {
        "colab": {
          "base_uri": "https://localhost:8080/"
        },
        "id": "OrNYF5w99cR9",
        "outputId": "e1f79913-af3a-4153-e779-e410099a4194"
      },
      "execution_count": null,
      "outputs": [
        {
          "output_type": "execute_result",
          "data": {
            "text/plain": [
              "array([ 25.,  35.,  45.,  30.,  60., 120., 100., 100.,  70.,  75.,  80.,\n",
              "        65.])"
            ]
          },
          "metadata": {},
          "execution_count": 81
        }
      ]
    },
    {
      "cell_type": "code",
      "source": [
        "time_new =  np.linspace(0, 11, 10000)"
      ],
      "metadata": {
        "id": "5QvZhjR3AL51"
      },
      "execution_count": null,
      "outputs": []
    },
    {
      "cell_type": "code",
      "source": [
        "speed_new = res_inter(time_new)"
      ],
      "metadata": {
        "id": "gkJ8IayXAdH-"
      },
      "execution_count": null,
      "outputs": []
    },
    {
      "cell_type": "code",
      "source": [
        "print(len(time_new), len(speed_new))"
      ],
      "metadata": {
        "colab": {
          "base_uri": "https://localhost:8080/"
        },
        "id": "fU77obyEA3jy",
        "outputId": "7d8aec7b-87a9-4915-b9b6-693b2a0646fa"
      },
      "execution_count": null,
      "outputs": [
        {
          "output_type": "stream",
          "name": "stdout",
          "text": [
            "10000 10000\n"
          ]
        }
      ]
    },
    {
      "cell_type": "code",
      "source": [
        "# Plot \n",
        "plt.figure(figsize=(10,6))\n",
        "plt.plot(time_new, speed_new, label='Speed')\n",
        "plt.xlim(0, 11)\n",
        "plt.ylim(0, 130)\n",
        "plt.xlabel('Time (hours)')\n",
        "plt.ylabel('Speed')\n",
        "plt.title('Speed of Vehicle (cubic)')\n",
        "plt.legend()\n",
        "plt.show()"
      ],
      "metadata": {
        "colab": {
          "base_uri": "https://localhost:8080/",
          "height": 404
        },
        "id": "b_m1lcBM8-9C",
        "outputId": "30b3d425-0cc3-4804-afa3-7ab17278368d"
      },
      "execution_count": null,
      "outputs": [
        {
          "output_type": "display_data",
          "data": {
            "text/plain": [
              "<Figure size 720x432 with 1 Axes>"
            ],
            "image/png": "[encoded data removed]"
          },
          "metadata": {
            "needs_background": "light"
          }
        }
      ]
    },
    {
      "cell_type": "markdown",
      "source": [
        "Вычислите интеграл для полученной интерполяционной функции на промежутке [0, 11]"
      ],
      "metadata": {
        "id": "DW7SN12jBQLe"
      }
    },
    {
      "cell_type": "code",
      "source": [
        "from scipy.integrate import quad"
      ],
      "metadata": {
        "id": "LcBZyQwUBXh9"
      },
      "execution_count": null,
      "outputs": []
    },
    {
      "cell_type": "code",
      "source": [
        "# Define the integrand function\n",
        "f = lambda x: res_inter(x)"
      ],
      "metadata": {
        "id": "WI2csBJMCP4l"
      },
      "execution_count": null,
      "outputs": []
    },
    {
      "cell_type": "code",
      "source": [
        "result, error = quad(f, 0, 11)\n",
        "print(\"The integral of the interpolated function is:\", result)"
      ],
      "metadata": {
        "colab": {
          "base_uri": "https://localhost:8080/"
        },
        "id": "3tGNbNMsE1lz",
        "outputId": "87f27207-98ba-45e2-f528-c310285d93d1"
      },
      "execution_count": null,
      "outputs": [
        {
          "output_type": "stream",
          "name": "stdout",
          "text": [
            "The integral of the interpolated function is: 761.586477590826\n"
          ]
        }
      ]
    },
    {
      "cell_type": "markdown",
      "source": [
        "For 'quadratic':"
      ],
      "metadata": {
        "id": "0Khn8iOlMJmC"
      }
    },
    {
      "cell_type": "code",
      "source": [
        "res_inter = interp1d(time, speed, kind='quadratic')"
      ],
      "metadata": {
        "id": "E4M13JstMyTb"
      },
      "execution_count": null,
      "outputs": []
    },
    {
      "cell_type": "code",
      "source": [
        "res_inter.y"
      ],
      "metadata": {
        "colab": {
          "base_uri": "https://localhost:8080/"
        },
        "outputId": "cbcda808-334a-49ce-e501-4c7fb5be2c07",
        "id": "baBB6Wx_MyTb"
      },
      "execution_count": null,
      "outputs": [
        {
          "output_type": "execute_result",
          "data": {
            "text/plain": [
              "array([ 25.,  35.,  45.,  30.,  60., 120., 100., 100.,  70.,  75.,  80.,\n",
              "        65.])"
            ]
          },
          "metadata": {},
          "execution_count": 90
        }
      ]
    },
    {
      "cell_type": "code",
      "source": [
        "time_new =  np.linspace(0, 11, 10000)"
      ],
      "metadata": {
        "id": "B391Ffw7MyTc"
      },
      "execution_count": null,
      "outputs": []
    },
    {
      "cell_type": "code",
      "source": [
        "speed_new = res_inter(time_new)"
      ],
      "metadata": {
        "id": "TZDr7U1iMyTc"
      },
      "execution_count": null,
      "outputs": []
    },
    {
      "cell_type": "code",
      "source": [
        "print(len(time_new), len(speed_new))"
      ],
      "metadata": {
        "colab": {
          "base_uri": "https://localhost:8080/"
        },
        "outputId": "31e9e87b-f779-4295-a0dc-64c33ec76dde",
        "id": "xLBlw8yEMyTc"
      },
      "execution_count": null,
      "outputs": [
        {
          "output_type": "stream",
          "name": "stdout",
          "text": [
            "10000 10000\n"
          ]
        }
      ]
    },
    {
      "cell_type": "code",
      "source": [
        "# Plot \n",
        "plt.figure(figsize=(10,6))\n",
        "plt.plot(time_new, speed_new, label='Speed')\n",
        "plt.xlim(0, 11)\n",
        "plt.ylim(0, 130)\n",
        "plt.xlabel('Time (hours)')\n",
        "plt.ylabel('Speed')\n",
        "plt.title('Speed of Vehicle (quadratic) ')\n",
        "plt.legend()\n",
        "plt.show()"
      ],
      "metadata": {
        "colab": {
          "base_uri": "https://localhost:8080/",
          "height": 404
        },
        "outputId": "872c63ae-bdf9-4ff4-82e1-d3f58571b0b9",
        "id": "v9WvUFtmMyTc"
      },
      "execution_count": null,
      "outputs": [
        {
          "output_type": "display_data",
          "data": {
            "text/plain": [
              "<Figure size 720x432 with 1 Axes>"
            ],
            "image/png": "[encoded data removed]"
          },
          "metadata": {
            "needs_background": "light"
          }
        }
      ]
    },
    {
      "cell_type": "markdown",
      "source": [
        "Вычислите интеграл для полученной интерполяционной функции на промежутке [0, 11]"
      ],
      "metadata": {
        "id": "xBLZXcY-MyTd"
      }
    },
    {
      "cell_type": "code",
      "source": [
        "from scipy.integrate import quad"
      ],
      "metadata": {
        "id": "YksR8oqmMyTd"
      },
      "execution_count": null,
      "outputs": []
    },
    {
      "cell_type": "code",
      "source": [
        "# Define the integrand function\n",
        "f = lambda x: res_inter(x)"
      ],
      "metadata": {
        "id": "1Uk2wc1sMyTd"
      },
      "execution_count": null,
      "outputs": []
    },
    {
      "cell_type": "code",
      "source": [
        "result, error = quad(f, 0, 11)\n",
        "print(\"The integral of the interpolated function is:\", result)"
      ],
      "metadata": {
        "colab": {
          "base_uri": "https://localhost:8080/"
        },
        "outputId": "898fb7d8-fd91-4cae-81eb-20091c1f89ef",
        "id": "tdIJrIWdMyTe"
      },
      "execution_count": null,
      "outputs": [
        {
          "output_type": "stream",
          "name": "stdout",
          "text": [
            "The integral of the interpolated function is: 762.7374192196539\n"
          ]
        }
      ]
    }
  ]
}